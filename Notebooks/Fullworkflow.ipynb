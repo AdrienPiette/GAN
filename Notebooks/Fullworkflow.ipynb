{
 "cells": [
  {
   "cell_type": "markdown",
   "metadata": {},
   "source": [
    "### GAN project\n"
   ]
  },
  {
   "cell_type": "code",
   "execution_count": 4,
   "metadata": {},
   "outputs": [],
   "source": [
    "# Digit recognition using a simple neural network\n",
    "\n",
    "import numpy as np\n",
    "import matplotlib.pyplot as plt\n",
    "import tensorflow as tf\n",
    "from tensorflow import keras\n",
    "\n",
    "from tensorflow.keras.models import Sequential\n",
    "from tensorflow.keras.layers import Dense, Conv2D, Flatten, MaxPooling2D, Dropout"
   ]
  },
  {
   "cell_type": "markdown",
   "metadata": {},
   "source": [
    "### Get data and preprocess"
   ]
  },
  {
   "cell_type": "code",
   "execution_count": 5,
   "metadata": {},
   "outputs": [
    {
     "data": {
      "text/plain": [
       "((60000, 28, 28), (60000,), (10000, 28, 28), (10000,))"
      ]
     },
     "execution_count": 5,
     "metadata": {},
     "output_type": "execute_result"
    }
   ],
   "source": [
    "(X_train, y_train), (X_test, y_test) = tf.keras.datasets.mnist.load_data()\n",
    "\n",
    "X_train.shape, y_train.shape, X_test.shape, y_test.shape\n"
   ]
  },
  {
   "cell_type": "code",
   "execution_count": 6,
   "metadata": {},
   "outputs": [
    {
     "data": {
      "image/png": "[encoded data removed]",
      "text/plain": [
       "<Figure size 2000x500 with 5 Axes>"
      ]
     },
     "metadata": {},
     "output_type": "display_data"
    }
   ],
   "source": [
    "def plot_input_img(X, y):\n",
    "    # Create a figure with 5 subplots side by side\n",
    "    fig, axes = plt.subplots(1, 5, figsize=(20, 5))\n",
    "    \n",
    "    # Loop over the first 5 images\n",
    "    for i in range(5):\n",
    "        # Display the image in grayscale\n",
    "        axes[i].imshow(X[i], cmap='gray')\n",
    "        # Set the title of the subplot with the corresponding label\n",
    "        axes[i].set_title(y[i])\n",
    "        # Turn off the axes for better visualization\n",
    "        axes[i].axis('off')\n",
    "    \n",
    "    # Display the figure\n",
    "    plt.show()\n",
    "\n",
    "# Call the function to display the first 5 images of the training set\n",
    "plot_input_img(X_train, y_train)\n",
    "\n"
   ]
  },
  {
   "cell_type": "markdown",
   "metadata": {},
   "source": [
    "## Preprocess the images\n"
   ]
  },
  {
   "cell_type": "code",
   "execution_count": 7,
   "metadata": {},
   "outputs": [],
   "source": [
    "# Normalize the training data by converting it to float32 and scaling the pixel values to the range [0, 1]\n",
    "X_train = X_train.astype(np.float32) / 255\n",
    "\n",
    "# Normalize the test data by converting it to float32 and scaling the pixel values to the range [0, 1]\n",
    "X_test = X_test.astype(np.float32) / 255\n",
    "\n",
    "#  reshape / expand the dimensions of images to 28x28x1\n",
    "# Reshape the training data to add an extra dimension for the channel (28x28x1)\n",
    "X_train = np.expand_dims(X_train, -1)\n",
    "\n",
    "# Reshape the test data to add an extra dimension for the channel (28x28x1)\n",
    "X_test = np.expand_dims(X_test, -1)\n",
    "\n",
    "# Why Add a New Dimension?:\n",
    "\n",
    "# Many deep learning frameworks (like TensorFlow or PyTorch) expect image data to have a channel dimension, even if it's just one channel for grayscale images.\n",
    "# For example, Convolutional Neural Networks (CNNs) typically expect input data in the format (height, width, channels). Adding this extra dimension ensures compatibility with these models.\n",
    "\n",
    "# Convert the training labels to one-hot encoded vectors\n",
    "# This means that each label will be represented as a vector with a length equal to the number of classes (10 in this case)\n",
    "# For example, if the label is 3, the one-hot encoded vector will be [0, 0, 0, 1, 0, 0, 0, 0, 0, 0]\n",
    "# This is done to make it easier to train the neural network\n",
    "\n",
    "y_train = tf.keras.utils.to_categorical(y_train, num_classes=10)\n",
    "\n",
    "# Convert the test labels to one-hot encoded vectors\n",
    "y_test = tf.keras.utils.to_categorical(y_test, num_classes=10)"
   ]
  },
  {
   "cell_type": "code",
   "execution_count": 8,
   "metadata": {},
   "outputs": [
    {
     "name": "stderr",
     "output_type": "stream",
     "text": [
      "C:\\Users\\pieta\\AppData\\Local\\Packages\\PythonSoftwareFoundation.Python.3.12_qbz5n2kfra8p0\\LocalCache\\local-packages\\Python312\\site-packages\\keras\\src\\layers\\convolutional\\base_conv.py:107: UserWarning: Do not pass an `input_shape`/`input_dim` argument to a layer. When using Sequential models, prefer using an `Input(shape)` object as the first layer in the model instead.\n",
      "  super().__init__(activity_regularizer=activity_regularizer, **kwargs)\n"
     ]
    }
   ],
   "source": [
    "model = Sequential()\n",
    "\n",
    "# Add a 2D convolutional layer with 32 filters, a kernel size of 3x3, ReLU activation, and input shape of 28x28x1\n",
    "model.add(Conv2D(32, kernel_size=(3, 3), activation='relu', input_shape=(28, 28, 1)))\n",
    "\n",
    "# Add a max pooling layer with a pool size of 2x2\n",
    "model.add(MaxPooling2D(pool_size=(2, 2)))\n",
    "\n",
    "# Add another 2D convolutional layer with 64 filters, a kernel size of 3x3, and ReLU activation\n",
    "model.add(Conv2D(64, kernel_size=(3, 3), activation='relu'))\n",
    "\n",
    "# Add another max pooling layer with a pool size of 2x2\n",
    "model.add(MaxPooling2D(pool_size=(2, 2)))\n",
    "\n",
    "# Flatten the output of the previous layer to create a 1D feature vector\n",
    "model.add(Flatten())\n",
    "\n",
    "# Add a dropout layer with a dropout rate of 0.5 to prevent overfitting\n",
    "model.add(Dropout(0.5))\n",
    "\n",
    "# Add a dense (fully connected) layer with 10 units and ReLU activation\n",
    "model.add(Dense(10, activation='relu'))"
   ]
  },
  {
   "cell_type": "code",
   "execution_count": 9,
   "metadata": {},
   "outputs": [
    {
     "data": {
      "text/plain": [
       "\"\\nCompiles the model with the specified optimizer, loss function, and evaluation metrics.\\n\\nThis function configures the model for training by specifying the optimizer to use, \\nthe loss function to minimize, and the metrics to evaluate during training and testing.\\n\\nParameters:\\n    optimizer (str): The optimizer to use for training. In this case, 'adam' is used.\\n    loss (function): The loss function to minimize. Here, keras.losses.categorical_crossentropy is used.\\n    metrics (list): A list of metrics to evaluate during training and testing. Here, ['accuracy'] is used.\\n\\nReturns:\\n    None\\n\""
      ]
     },
     "execution_count": 9,
     "metadata": {},
     "output_type": "execute_result"
    }
   ],
   "source": [
    "model.compile(optimizer='adam', loss=keras.losses.categorical_crossentropy, metrics=['accuracy'])\n",
    "\"\"\"\n",
    "Compiles the model with the specified optimizer, loss function, and evaluation metrics.\n",
    "\n",
    "This function configures the model for training by specifying the optimizer to use, \n",
    "the loss function to minimize, and the metrics to evaluate during training and testing.\n",
    "\n",
    "Parameters:\n",
    "    optimizer (str): The optimizer to use for training. In this case, 'adam' is used.\n",
    "    loss (function): The loss function to minimize. Here, keras.losses.categorical_crossentropy is used.\n",
    "    metrics (list): A list of metrics to evaluate during training and testing. Here, ['accuracy'] is used.\n",
    "\n",
    "Returns:\n",
    "    None\n",
    "\"\"\""
   ]
  },
  {
   "cell_type": "code",
   "execution_count": 14,
   "metadata": {},
   "outputs": [],
   "source": [
    "# Callbacks\n",
    "\n",
    "from tensorflow.keras.callbacks import EarlyStopping, ModelCheckpoint\n",
    "\n",
    "#  EarlyStopping callback to stop training if the validation loss does not improve for 3 consecutive epochs\n",
    "# ModelCheckpoint callback to save the model with the best validation loss\n",
    "# ModelCheckpoint callback to save the model with the best validation loss in Keras format\n",
    "\n",
    "# EarlyStopping callback to stop training if the validation accuracy does not improve for 3 consecutive epochs\n",
    "early_stopping = EarlyStopping(monitor='val_accuracy', patience=10, restore_best_weights=True)\n",
    "\n",
    "\n",
    "# ModelCheckpoint callback to save only the best weights with the best validation accuracy\n",
    "model_checkpoint = ModelCheckpoint('best_model.keras', monitor='val_loss', save_best_only=True, save_weights_only=False)\n",
    "\n",
    "\n"
   ]
  },
  {
   "cell_type": "markdown",
   "metadata": {},
   "source": [
    "## Model training"
   ]
  },
  {
   "cell_type": "code",
   "execution_count": 15,
   "metadata": {},
   "outputs": [
    {
     "name": "stdout",
     "output_type": "stream",
     "text": [
      "Epoch 1/10\n",
      "\u001b[1m1500/1500\u001b[0m \u001b[32m━━━━━━━━━━━━━━━━━━━━\u001b[0m\u001b[37m\u001b[0m \u001b[1m9s\u001b[0m 6ms/step - accuracy: 0.0982 - loss: nan - val_accuracy: 0.0995 - val_loss: nan\n",
      "Epoch 2/10\n",
      "\u001b[1m1500/1500\u001b[0m \u001b[32m━━━━━━━━━━━━━━━━━━━━\u001b[0m\u001b[37m\u001b[0m \u001b[1m10s\u001b[0m 6ms/step - accuracy: 0.0982 - loss: nan - val_accuracy: 0.0995 - val_loss: nan\n",
      "Epoch 3/10\n",
      "\u001b[1m1500/1500\u001b[0m \u001b[32m━━━━━━━━━━━━━━━━━━━━\u001b[0m\u001b[37m\u001b[0m \u001b[1m9s\u001b[0m 6ms/step - accuracy: 0.0991 - loss: nan - val_accuracy: 0.0995 - val_loss: nan\n",
      "Epoch 4/10\n",
      "\u001b[1m1500/1500\u001b[0m \u001b[32m━━━━━━━━━━━━━━━━━━━━\u001b[0m\u001b[37m\u001b[0m \u001b[1m9s\u001b[0m 6ms/step - accuracy: 0.0978 - loss: nan - val_accuracy: 0.0995 - val_loss: nan\n",
      "Epoch 5/10\n",
      "\u001b[1m1500/1500\u001b[0m \u001b[32m━━━━━━━━━━━━━━━━━━━━\u001b[0m\u001b[37m\u001b[0m \u001b[1m9s\u001b[0m 6ms/step - accuracy: 0.0967 - loss: nan - val_accuracy: 0.0995 - val_loss: nan\n",
      "Epoch 6/10\n",
      "\u001b[1m1500/1500\u001b[0m \u001b[32m━━━━━━━━━━━━━━━━━━━━\u001b[0m\u001b[37m\u001b[0m \u001b[1m9s\u001b[0m 6ms/step - accuracy: 0.0991 - loss: nan - val_accuracy: 0.0995 - val_loss: nan\n",
      "Epoch 7/10\n",
      "\u001b[1m1500/1500\u001b[0m \u001b[32m━━━━━━━━━━━━━━━━━━━━\u001b[0m\u001b[37m\u001b[0m \u001b[1m9s\u001b[0m 6ms/step - accuracy: 0.0993 - loss: nan - val_accuracy: 0.0995 - val_loss: nan\n",
      "Epoch 8/10\n",
      "\u001b[1m1500/1500\u001b[0m \u001b[32m━━━━━━━━━━━━━━━━━━━━\u001b[0m\u001b[37m\u001b[0m \u001b[1m9s\u001b[0m 6ms/step - accuracy: 0.1003 - loss: nan - val_accuracy: 0.0995 - val_loss: nan\n",
      "Epoch 9/10\n",
      "\u001b[1m1500/1500\u001b[0m \u001b[32m━━━━━━━━━━━━━━━━━━━━\u001b[0m\u001b[37m\u001b[0m \u001b[1m9s\u001b[0m 6ms/step - accuracy: 0.0996 - loss: nan - val_accuracy: 0.0995 - val_loss: nan\n",
      "Epoch 10/10\n",
      "\u001b[1m1500/1500\u001b[0m \u001b[32m━━━━━━━━━━━━━━━━━━━━\u001b[0m\u001b[37m\u001b[0m \u001b[1m9s\u001b[0m 6ms/step - accuracy: 0.1001 - loss: nan - val_accuracy: 0.0995 - val_loss: nan\n"
     ]
    }
   ],
   "source": [
    "his = model.fit(X_train, y_train, batch_size=32, epochs=10, validation_split=0.2, callbacks=[early_stopping, model_checkpoint])\n",
    "\n",
    "# save the model\n",
    "\n",
    "model.save('digit_recognition_model.keras')\n"
   ]
  },
  {
   "cell_type": "code",
   "execution_count": 16,
   "metadata": {},
   "outputs": [],
   "source": [
    "model_saved = keras.models.load_model(r'C:\\Users\\pieta\\OneDrive\\Bureau\\GAN\\Notebooks\\digit_recognition_model.keras')"
   ]
  },
  {
   "cell_type": "code",
   "execution_count": 17,
   "metadata": {},
   "outputs": [
    {
     "name": "stdout",
     "output_type": "stream",
     "text": [
      "the model accuracy is 0.09799999743700027\n"
     ]
    }
   ],
   "source": [
    "score = model_saved.evaluate(X_test, y_test, verbose=0)\n",
    "print(f\"the model accuracy is {score[1]}\")"
   ]
  }
 ],
 "metadata": {
  "kernelspec": {
   "display_name": "Python 3",
   "language": "python",
   "name": "python3"
  },
  "language_info": {
   "codemirror_mode": {
    "name": "ipython",
    "version": 3
   },
   "file_extension": ".py",
   "mimetype": "text/x-python",
   "name": "python",
   "nbconvert_exporter": "python",
   "pygments_lexer": "ipython3",
   "version": "3.12.7"
  }
 },
 "nbformat": 4,
 "nbformat_minor": 2
}
